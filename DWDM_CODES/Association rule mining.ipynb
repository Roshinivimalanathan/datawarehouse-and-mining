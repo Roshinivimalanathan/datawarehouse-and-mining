{
  "cells": [
    {
      "cell_type": "code",
      "execution_count": null,
      "id": "c261c89c",
      "metadata": {
        "id": "c261c89c",
        "outputId": "947e3f51-b7c7-4a54-a7dc-cb787723f3a4",
        "colab": {
          "base_uri": "https://localhost:8080/"
        }
      },
      "outputs": [
        {
          "output_type": "stream",
          "name": "stdout",
          "text": [
            "Frequent Itemsets:\n",
            "   support              itemsets\n",
            "0     1.00               (Bread)\n",
            "1     0.75              (butter)\n",
            "2     0.75                 (jam)\n",
            "3     0.75       (butter, Bread)\n",
            "4     0.75          (Bread, jam)\n",
            "5     0.50         (butter, jam)\n",
            "6     0.50  (butter, Bread, jam)\n",
            "\n",
            "Association Rules:\n",
            "     antecedents    consequents  antecedent support  consequent support  \\\n",
            "0       (butter)        (Bread)                0.75                1.00   \n",
            "1        (Bread)       (butter)                1.00                0.75   \n",
            "2        (Bread)          (jam)                1.00                0.75   \n",
            "3          (jam)        (Bread)                0.75                1.00   \n",
            "4  (butter, jam)        (Bread)                0.50                1.00   \n",
            "5        (Bread)  (butter, jam)                1.00                0.50   \n",
            "\n",
            "   support  confidence  lift  leverage  conviction  zhangs_metric  \n",
            "0     0.75        1.00   1.0       0.0         inf            0.0  \n",
            "1     0.75        0.75   1.0       0.0         1.0            0.0  \n",
            "2     0.75        0.75   1.0       0.0         1.0            0.0  \n",
            "3     0.75        1.00   1.0       0.0         inf            0.0  \n",
            "4     0.50        1.00   1.0       0.0         inf            0.0  \n",
            "5     0.50        0.50   1.0       0.0         1.0            0.0  \n"
          ]
        },
        {
          "output_type": "stream",
          "name": "stderr",
          "text": [
            "/usr/local/lib/python3.10/dist-packages/mlxtend/frequent_patterns/fpcommon.py:110: DeprecationWarning: DataFrames with non-bool types result in worse computationalperformance and their support might be discontinued in the future.Please use a DataFrame with bool type\n",
            "  warnings.warn(\n"
          ]
        }
      ],
      "source": [
        "from mlxtend.frequent_patterns import apriori\n",
        "from mlxtend.frequent_patterns import association_rules\n",
        "import pandas as pd\n",
        "\n",
        "\n",
        "data = {\n",
        "    'Transaction_ID': [1, 1, 2, 2, 2, 3, 3, 4, 4, 4],\n",
        "    'Item': ['jam', 'Bread', 'jam', 'butter', 'Bread', 'Bread', 'butter', 'jam', 'Bread', 'butter']\n",
        "}\n",
        "\n",
        "\n",
        "df = pd.DataFrame(data)\n",
        "\n",
        "\n",
        "oht = pd.crosstab(df['Transaction_ID'], df['Item'])\n",
        "\n",
        "\n",
        "frequent_itemsets = apriori(oht, min_support=0.5, use_colnames=True)\n",
        "\n",
        "\n",
        "rules = association_rules(frequent_itemsets, metric='lift', min_threshold=1.0)\n",
        "\n",
        "\n",
        "print(\"Frequent Itemsets:\")\n",
        "print(frequent_itemsets)\n",
        "\n",
        "print(\"\\nAssociation Rules:\")\n",
        "print(rules)"
      ]
    },
    {
      "cell_type": "code",
      "execution_count": null,
      "id": "d4603ad2",
      "metadata": {
        "id": "d4603ad2"
      },
      "outputs": [],
      "source": []
    }
  ],
  "metadata": {
    "kernelspec": {
      "display_name": "Python 3",
      "language": "python",
      "name": "python3"
    },
    "language_info": {
      "codemirror_mode": {
        "name": "ipython",
        "version": 3
      },
      "file_extension": ".py",
      "mimetype": "text/x-python",
      "name": "python",
      "nbconvert_exporter": "python",
      "pygments_lexer": "ipython3",
      "version": "3.8.8"
    },
    "colab": {
      "provenance": []
    }
  },
  "nbformat": 4,
  "nbformat_minor": 5
}