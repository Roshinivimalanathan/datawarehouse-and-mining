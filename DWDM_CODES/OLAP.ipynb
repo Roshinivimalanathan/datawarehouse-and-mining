{
 "cells": [
  {
   "cell_type": "code",
   "execution_count": 1,
   "id": "dc6b6ccc",
   "metadata": {},
   "outputs": [
    {
     "name": "stdout",
     "output_type": "stream",
     "text": [
      "tapply Result:\n",
      "74.11\n"
     ]
    }
   ],
   "source": [
    "import pandas as pd\n",
    "import numpy as np\n",
    "np.random.seed(0)\n",
    "students = np.random.choice(['Roshhh', 'Sabesh', 'Harshini', 'Nithish'], size=100)\n",
    "courses = np.random.choice(['Eie', 'Dbms', 'Math', 'Cse'], size=100)\n",
    "semesters = np.random.choice(['Spring', 'Summer', 'Fall'], size=100)\n",
    "grades = np.random.randint(50, 100, size=100)\n",
    "data = pd.DataFrame({\n",
    "    'student': students,\n",
    "    'course': courses,\n",
    "    'semester': semesters,\n",
    "    'grade': grades\n",
    "})\n",
    "tapply_result = data['grade'].mean()\n",
    "print(\"tapply Result:\")\n",
    "print(tapply_result)"
   ]
  },
  {
   "cell_type": "code",
   "execution_count": 2,
   "id": "7e65188d",
   "metadata": {},
   "outputs": [
    {
     "name": "stdout",
     "output_type": "stream",
     "text": [
      "Rollup Result:\n",
      "                 grade\n",
      "student  course       \n",
      "Harshini Cse       417\n",
      "         Dbms      237\n",
      "         Eie       206\n",
      "         Math      514\n",
      "Nithish  Cse       687\n",
      "         Dbms      506\n",
      "         Eie       745\n",
      "         Math      448\n",
      "Roshhh   Cse       621\n",
      "         Dbms      211\n",
      "         Eie       655\n",
      "         Math      425\n",
      "Sabesh   Cse       267\n",
      "         Dbms      398\n",
      "         Eie       341\n",
      "         Math      733\n"
     ]
    }
   ],
   "source": [
    "# Rollup\n",
    "rollup_result = data.groupby(['student', 'course']).agg({'grade': 'sum'})\n",
    "print(\"Rollup Result:\")\n",
    "print(rollup_result)"
   ]
  },
  {
   "cell_type": "code",
   "execution_count": 3,
   "id": "610505ba",
   "metadata": {},
   "outputs": [
    {
     "name": "stdout",
     "output_type": "stream",
     "text": [
      "Dice Result:\n",
      "   student course semester  grade\n",
      "12  Roshhh    Eie   Spring     67\n",
      "17  Roshhh    Eie   Spring     86\n",
      "39  Roshhh    Eie   Spring     71\n",
      "50  Roshhh    Eie     Fall     93\n",
      "69  Roshhh    Eie   Spring     92\n",
      "77  Roshhh    Eie     Fall     96\n",
      "95  Roshhh    Eie   Summer     78\n",
      "99  Roshhh    Eie     Fall     72\n"
     ]
    }
   ],
   "source": [
    "# Dice\n",
    "dice_result = data[(data['student'] == 'Roshhh') & (data['course'] == 'Eie')]\n",
    "print(\"Dice Result:\")\n",
    "print(dice_result)"
   ]
  },
  {
   "cell_type": "code",
   "execution_count": 4,
   "id": "4a5821c2",
   "metadata": {},
   "outputs": [
    {
     "name": "stdout",
     "output_type": "stream",
     "text": [
      "Drilldown Result:\n",
      "                          grade\n",
      "student  course semester       \n",
      "Harshini Cse    Fall         74\n",
      "                Spring       59\n",
      "                Summer       98\n",
      "         Dbms   Fall         68\n",
      "                Spring       89\n",
      "                Summer       80\n",
      "         Eie    Spring       51\n",
      "                Summer       85\n",
      "         Math   Fall         93\n",
      "                Summer       82\n",
      "Nithish  Cse    Fall         67\n",
      "                Spring       84\n",
      "                Summer       89\n",
      "         Dbms   Spring       82\n",
      "                Summer       85\n",
      "         Eie    Fall         78\n",
      "                Spring       98\n",
      "                Summer       97\n",
      "         Math   Fall         83\n",
      "                Spring       77\n",
      "                Summer       82\n",
      "Roshhh   Cse    Fall         96\n",
      "                Spring       90\n",
      "                Summer       57\n",
      "         Dbms   Spring       79\n",
      "                Summer       74\n",
      "         Eie    Fall         96\n",
      "                Spring       92\n",
      "                Summer       78\n",
      "         Math   Fall         77\n",
      "                Summer       87\n",
      "Sabesh   Cse    Fall         58\n",
      "                Spring       55\n",
      "                Summer       91\n",
      "         Dbms   Spring       86\n",
      "                Summer       94\n",
      "         Eie    Fall         55\n",
      "                Spring       99\n",
      "                Summer       70\n",
      "         Math   Fall         80\n",
      "                Spring       77\n",
      "                Summer       99\n"
     ]
    }
   ],
   "source": [
    "# Drilldown\n",
    "drilldown_result = data.groupby(['student', 'course', 'semester']).agg({'grade': 'max'})\n",
    "print(\"Drilldown Result:\")\n",
    "print(drilldown_result)"
   ]
  },
  {
   "cell_type": "code",
   "execution_count": 5,
   "id": "9fc8709c",
   "metadata": {},
   "outputs": [
    {
     "name": "stdout",
     "output_type": "stream",
     "text": [
      "Slice Result:\n",
      "     student course semester  grade\n",
      "1    Nithish   Math     Fall     83\n",
      "2     Sabesh    Eie     Fall     55\n",
      "3     Roshhh    Cse     Fall     90\n",
      "9    Nithish    Eie     Fall     66\n",
      "10    Sabesh    Cse     Fall     58\n",
      "15    Roshhh   Math     Fall     77\n",
      "20  Harshini    Cse     Fall     53\n",
      "29    Roshhh    Cse     Fall     79\n",
      "34   Nithish    Eie     Fall     62\n",
      "42    Roshhh   Math     Fall     61\n",
      "48  Harshini   Dbms     Fall     68\n",
      "50    Roshhh    Eie     Fall     93\n",
      "51    Sabesh   Math     Fall     69\n",
      "55    Roshhh    Cse     Fall     96\n",
      "60   Nithish   Math     Fall     77\n",
      "61  Harshini   Math     Fall     59\n",
      "63  Harshini   Math     Fall     93\n",
      "64   Nithish    Cse     Fall     67\n",
      "65    Roshhh    Cse     Fall     91\n",
      "71    Sabesh   Math     Fall     80\n",
      "72  Harshini    Cse     Fall     74\n",
      "77    Roshhh    Eie     Fall     96\n",
      "80  Harshini    Cse     Fall     69\n",
      "87    Sabesh   Math     Fall     61\n",
      "88   Nithish    Eie     Fall     78\n",
      "89  Harshini   Math     Fall     86\n",
      "92  Harshini   Math     Fall     92\n",
      "98    Sabesh   Math     Fall     54\n",
      "99    Roshhh    Eie     Fall     72\n"
     ]
    }
   ],
   "source": [
    "# Slice\n",
    "slice_result = data[data['semester'] == 'Fall']\n",
    "print(\"Slice Result:\")\n",
    "print(slice_result)"
   ]
  },
  {
   "cell_type": "code",
   "execution_count": null,
   "id": "b98ffd1a",
   "metadata": {},
   "outputs": [],
   "source": []
  }
 ],
 "metadata": {
  "kernelspec": {
   "display_name": "Python 3 (ipykernel)",
   "language": "python",
   "name": "python3"
  },
  "language_info": {
   "codemirror_mode": {
    "name": "ipython",
    "version": 3
   },
   "file_extension": ".py",
   "mimetype": "text/x-python",
   "name": "python",
   "nbconvert_exporter": "python",
   "pygments_lexer": "ipython3",
   "version": "3.11.4"
  }
 },
 "nbformat": 4,
 "nbformat_minor": 5
}
